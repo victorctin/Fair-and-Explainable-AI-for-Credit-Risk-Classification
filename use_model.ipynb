{
 "cells": [
  {
   "cell_type": "code",
   "execution_count": 1,
   "id": "843973fe",
   "metadata": {},
   "outputs": [
    {
     "name": "stdout",
     "output_type": "stream",
     "text": [
      "Modelul a fost încărcat cu succes!\n"
     ]
    }
   ],
   "source": [
    "import pickle\n",
    "import os\n",
    "\n",
    "# Definește calea către fișierul.pkl\n",
    "# Asigură-te că această cale este corectă pentru sistemul tău\n",
    "# Poți folosi o cale absolută sau relativă, în funcție de unde rulezi scriptul Python\n",
    "model_path = r'C:\\Users\\victo\\OneDrive\\Documents\\GitHub\\Fair-and-Explainable-AI-for-Credit-Risk-Classification\\models\\best_rf_pipeline.pkl'\n",
    "\n",
    "# Verifică dacă fișierul există\n",
    "if not os.path.exists(model_path):\n",
    "    print(f\"Eroare: Fișierul '{model_path}' nu a fost găsit.\")\n",
    "else:\n",
    "    try:\n",
    "        # Încarcă modelul din fișierul.pkl\n",
    "        with open(model_path, 'rb') as file:\n",
    "            loaded_model = pickle.load(file)\n",
    "\n",
    "        print(\"Modelul a fost încărcat cu succes!\")\n",
    "        # Acum poți folosi 'loaded_model' pentru a face predicții sau alte operații\n",
    "        # Exemplu (presupunând că este un model scikit-learn):\n",
    "        # from sklearn.ensemble import RandomForestClassifier\n",
    "        # if isinstance(loaded_model, RandomForestClassifier):\n",
    "        #     print(\"Modelul încărcat este un RandomForestClassifier.\")\n",
    "        #     # Aici poți adăuga cod pentru a face predicții\n",
    "        #     # de exemplu: new_data = [[...]]\n",
    "        #     # predictions = loaded_model.predict(new_data)\n",
    "        #     # print(f\"Predicții: {predictions}\")\n",
    "        # else:\n",
    "        #     print(f\"Tipul modelului încărcat: {type(loaded_model)}\")\n",
    "\n",
    "    except Exception as e:\n",
    "        print(f\"A apărut o eroare la încărcarea modelului: {e}\")"
   ]
  }
 ],
 "metadata": {
  "kernelspec": {
   "display_name": "base",
   "language": "python",
   "name": "python3"
  },
  "language_info": {
   "codemirror_mode": {
    "name": "ipython",
    "version": 3
   },
   "file_extension": ".py",
   "mimetype": "text/x-python",
   "name": "python",
   "nbconvert_exporter": "python",
   "pygments_lexer": "ipython3",
   "version": "3.12.11"
  }
 },
 "nbformat": 4,
 "nbformat_minor": 5
}
